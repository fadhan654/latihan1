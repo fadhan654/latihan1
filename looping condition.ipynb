{
 "cells": [
  {
   "cell_type": "code",
   "execution_count": 13,
   "id": "e2359a8e",
   "metadata": {},
   "outputs": [
    {
     "name": "stdout",
     "output_type": "stream",
     "text": [
      "0 mercury\n",
      "1 venus\n",
      "2 earth\n",
      "3 mars\n",
      "4 jupiter\n",
      "5 saturn\n",
      "6 uranus\n",
      "7 neptunue\n"
     ]
    }
   ],
   "source": [
    "#looping condition\n",
    "planets = ['mercury','venus','earth','mars','jupiter','saturn','uranus','neptunue']\n",
    "for index, planet in enumerate (planets):\n",
    "    print(index,planet)"
   ]
  },
  {
   "cell_type": "code",
   "execution_count": 11,
   "id": "f1975903",
   "metadata": {},
   "outputs": [
    {
     "name": "stdout",
     "output_type": "stream",
     "text": [
      "firmino 9\n",
      "salah 11\n",
      "jota 20\n",
      "diaz 23\n",
      "nunez 27\n",
      "elliot 19\n",
      "carvalho 28\n",
      "milner 7\n",
      "henderson 14\n",
      "jones 17\n",
      "chamberlain 15\n",
      "keita 8\n",
      "fabinho 3\n",
      "thiago 6\n",
      "arnold 66\n",
      "gomez 2\n",
      "robertson 26\n",
      "tsimikas 21\n",
      "van djik 4\n",
      "konate 5\n",
      "matip 32\n",
      "aliison 1\n",
      "kelleher 62\n",
      "adrian 13\n"
     ]
    }
   ],
   "source": [
    "#liverpool_squad\n",
    "liverpool=['firmino 9','salah 11','jota 20','diaz 23','nunez 27','elliot 19','carvalho 28','milner 7','henderson 14','jones 17','chamberlain 15','keita 8','fabinho 3','thiago 6','arnold 66','gomez 2','robertson 26','tsimikas 21','van djik 4','konate 5','matip 32','aliison 1','kelleher 62','adrian 13']\n",
    "for liverpool in liverpool:\n",
    "    print(liverpool)"
   ]
  },
  {
   "cell_type": "code",
   "execution_count": 29,
   "id": "b4df393e",
   "metadata": {},
   "outputs": [
    {
     "name": "stdout",
     "output_type": "stream",
     "text": [
      "0 fadhlan\n",
      "2 fajril\n",
      "4 dzikri\n"
     ]
    }
   ],
   "source": [
    "students=['fadhlan','vicky','fajril','aripin','dzikri']\n",
    "for index, student in enumerate (students):\n",
    "    if index %2==0:\n",
    "        print(index,student)"
   ]
  },
  {
   "cell_type": "code",
   "execution_count": 28,
   "id": "654de95a",
   "metadata": {},
   "outputs": [
    {
     "name": "stdout",
     "output_type": "stream",
     "text": [
      "1 venus\n",
      "3 mars\n",
      "5 saturn\n",
      "7 neptune\n"
     ]
    }
   ],
   "source": [
    "planets = ['mercury','venus','earth','mars','jupiter','saturn','uranus','neptune']\n",
    "for index, planet in enumerate (planets):\n",
    "    if index %2:\n",
    "        print(index,planet)"
   ]
  },
  {
   "cell_type": "code",
   "execution_count": 44,
   "id": "87d5c436",
   "metadata": {},
   "outputs": [
    {
     "name": "stdout",
     "output_type": "stream",
     "text": [
      "10\n",
      "9\n",
      "8\n",
      "7\n",
      "6\n",
      "5\n",
      "4\n",
      "3\n",
      "2\n",
      "1\n",
      "0\n"
     ]
    }
   ],
   "source": [
    "i=10\n",
    "while i>=0:\n",
    "    print (i)\n",
    "    i-=1"
   ]
  },
  {
   "cell_type": "code",
   "execution_count": 49,
   "id": "cddf6258",
   "metadata": {},
   "outputs": [
    {
     "name": "stdout",
     "output_type": "stream",
     "text": [
      "0\n",
      "1\n",
      "2\n",
      "3\n",
      "4\n",
      "5\n",
      "6\n",
      "7\n",
      "8\n",
      "9\n"
     ]
    }
   ],
   "source": [
    "i=0\n",
    "while i<10:\n",
    "    print(i)\n",
    "    i+=1"
   ]
  },
  {
   "cell_type": "code",
   "execution_count": 52,
   "id": "28501cee",
   "metadata": {},
   "outputs": [
    {
     "name": "stdout",
     "output_type": "stream",
     "text": [
      "input string: afshdiahsfiohaioefoiqagf\n",
      "length of a is 24\n",
      "input string: fadhlan\n",
      "length of a is 7\n",
      "input string: ges ah cape\n"
     ]
    }
   ],
   "source": [
    "while True:\n",
    "    a=input('input string: ')\n",
    "    if a == 'ges ah cape':\n",
    "        break\n",
    "    print('length of a is {}'.format(len(a))) "
   ]
  },
  {
   "cell_type": "code",
   "execution_count": 57,
   "id": "90703768",
   "metadata": {},
   "outputs": [
    {
     "name": "stdout",
     "output_type": "stream",
     "text": [
      "10\n",
      "9\n",
      "8\n",
      "7\n",
      "6\n",
      "5\n"
     ]
    }
   ],
   "source": [
    "i=10\n",
    "while i>=0:\n",
    "    if i == 4:\n",
    "        break\n",
    "    print(i)\n",
    "    i-=1"
   ]
  },
  {
   "cell_type": "code",
   "execution_count": 60,
   "id": "bf9b8191",
   "metadata": {},
   "outputs": [
    {
     "name": "stdout",
     "output_type": "stream",
     "text": [
      "input age: 17\n",
      "input age: 18\n",
      "input age: 19\n",
      "input age: 20\n",
      "input age: 2\n",
      "120000\n"
     ]
    }
   ],
   "source": [
    "total=0\n",
    "viewers=0\n",
    "while viewers <5:\n",
    "    age=int(input('input age: '))\n",
    "    if age > 3:\n",
    "        total += 30000\n",
    "    viewers += 1\n",
    "print(total)"
   ]
  },
  {
   "cell_type": "code",
   "execution_count": null,
   "id": "5ca54c73",
   "metadata": {},
   "outputs": [],
   "source": []
  }
 ],
 "metadata": {
  "kernelspec": {
   "display_name": "Python 3 (ipykernel)",
   "language": "python",
   "name": "python3"
  },
  "language_info": {
   "codemirror_mode": {
    "name": "ipython",
    "version": 3
   },
   "file_extension": ".py",
   "mimetype": "text/x-python",
   "name": "python",
   "nbconvert_exporter": "python",
   "pygments_lexer": "ipython3",
   "version": "3.9.12"
  }
 },
 "nbformat": 4,
 "nbformat_minor": 5
}

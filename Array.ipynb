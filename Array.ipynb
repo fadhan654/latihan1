{
 "cells": [
  {
   "cell_type": "code",
   "execution_count": 2,
   "id": "f4d201c2",
   "metadata": {},
   "outputs": [
    {
     "data": {
      "text/plain": [
       "array([1., 2., 3., 4.])"
      ]
     },
     "execution_count": 2,
     "metadata": {},
     "output_type": "execute_result"
    }
   ],
   "source": [
    "import numpy as np\n",
    "arr=np.array([2,4,6,8])\n",
    "arr/2"
   ]
  },
  {
   "cell_type": "code",
   "execution_count": 8,
   "id": "4093ec1a",
   "metadata": {},
   "outputs": [
    {
     "data": {
      "text/plain": [
       "array([ 4,  6, 12, 16])"
      ]
     },
     "execution_count": 8,
     "metadata": {},
     "output_type": "execute_result"
    }
   ],
   "source": [
    "import numpy as np\n",
    "list=np.array([2,3,6,8])\n",
    "\n",
    "list*2"
   ]
  },
  {
   "cell_type": "code",
   "execution_count": 11,
   "id": "3ceeb18d",
   "metadata": {},
   "outputs": [
    {
     "name": "stdout",
     "output_type": "stream",
     "text": [
      "ford\n"
     ]
    }
   ],
   "source": [
    "cars = ['ford','volvo','bmw']\n",
    "x=cars[0]\n",
    "print(x)"
   ]
  },
  {
   "cell_type": "code",
   "execution_count": 13,
   "id": "ca1c135f",
   "metadata": {},
   "outputs": [
    {
     "name": "stdout",
     "output_type": "stream",
     "text": [
      "['toyota', 'volvo', 'bmw']\n"
     ]
    }
   ],
   "source": [
    "mobil=['ford','volvo','bmw']\n",
    "mobil[0]='toyota'\n",
    "print(mobil)"
   ]
  },
  {
   "cell_type": "code",
   "execution_count": 15,
   "id": "f5587725",
   "metadata": {},
   "outputs": [
    {
     "name": "stdout",
     "output_type": "stream",
     "text": [
      "ford\n",
      "volvo\n",
      "bmw\n"
     ]
    }
   ],
   "source": [
    "cars = ['ford','volvo','bmw']\n",
    "for x in cars:\n",
    "    print(x)"
   ]
  },
  {
   "cell_type": "code",
   "execution_count": 17,
   "id": "93372cf6",
   "metadata": {},
   "outputs": [
    {
     "name": "stdout",
     "output_type": "stream",
     "text": [
      "3\n"
     ]
    }
   ],
   "source": [
    "cars = ['ford','volvo','bmw']\n",
    "x=len(cars)\n",
    "print(x)"
   ]
  },
  {
   "cell_type": "code",
   "execution_count": 25,
   "id": "47cbf99d",
   "metadata": {},
   "outputs": [
    {
     "name": "stdout",
     "output_type": "stream",
     "text": [
      "abdul\n",
      "riri\n",
      "neva\n",
      "dah\n",
      "caca\n",
      "fadhlan\n"
     ]
    }
   ],
   "source": [
    "student=['pasca','riri','neva','najla','caca']\n",
    "student[3]='dah'\n",
    "student[0]='abdul'\n",
    "student.append('fadhlan')\n",
    "for x in student:\n",
    "    print(x)"
   ]
  },
  {
   "cell_type": "code",
   "execution_count": 30,
   "id": "bba5dd29",
   "metadata": {},
   "outputs": [
    {
     "name": "stdout",
     "output_type": "stream",
     "text": [
      "abdul\n",
      "neva\n",
      "dah\n",
      "fadhlan\n"
     ]
    }
   ],
   "source": [
    "student=['pasca','riri','neva','najla','caca']\n",
    "student[3]='dah'\n",
    "student[0]='abdul'\n",
    "student.append('fadhlan')\n",
    "student.pop(1)\n",
    "student.pop(3)\n",
    "for x in student:\n",
    "    print(x)"
   ]
  },
  {
   "cell_type": "code",
   "execution_count": 32,
   "id": "d45d7a2c",
   "metadata": {},
   "outputs": [
    {
     "name": "stdout",
     "output_type": "stream",
     "text": [
      "['nunez', 'salah', 'diaz', 'firmino']\n"
     ]
    }
   ],
   "source": [
    "liverpool = ['nunez', 'salah', 'diaz', 'firmino']\n",
    "\n",
    "x = liverpool.copy()\n",
    "print(x)"
   ]
  },
  {
   "cell_type": "code",
   "execution_count": 33,
   "id": "66b37f34",
   "metadata": {},
   "outputs": [
    {
     "name": "stdout",
     "output_type": "stream",
     "text": [
      "1\n"
     ]
    }
   ],
   "source": [
    "liverpool = ['nunez', 'firmino', 'jota']\n",
    "\n",
    "x = liverpool.count(\"firmino\")\n",
    "print(x)"
   ]
  },
  {
   "cell_type": "code",
   "execution_count": 37,
   "id": "50987d62",
   "metadata": {},
   "outputs": [
    {
     "name": "stdout",
     "output_type": "stream",
     "text": [
      "['jota', 'nunez', 'salah', 'aubameyang', 'ziyech', 'harvertz']\n"
     ]
    }
   ],
   "source": [
    "liverpool = ['jota', 'nunez', 'salah']\n",
    "\n",
    "chelsea = ['aubameyang', 'ziyech', 'harvertz']\n",
    "\n",
    "liverpool.extend(chelsea)\n",
    "print(liverpool)"
   ]
  },
  {
   "cell_type": "code",
   "execution_count": 39,
   "id": "2fee758b",
   "metadata": {},
   "outputs": [
    {
     "name": "stdout",
     "output_type": "stream",
     "text": [
      "list in python : [1, 2, 3, 4]\n",
      "numpy array in python: [1 2 3 4]\n"
     ]
    }
   ],
   "source": [
    "import numpy as np\n",
    "#creatinglist\n",
    "list=[1,2,3,4]\n",
    "\n",
    "#creatingarray\n",
    "sample_array=np.array(list)\n",
    "\n",
    "print('list in python :',list)\n",
    "\n",
    "print('numpy array in python:',sample_array)"
   ]
  },
  {
   "cell_type": "code",
   "execution_count": 41,
   "id": "02199343",
   "metadata": {},
   "outputs": [
    {
     "name": "stdout",
     "output_type": "stream",
     "text": [
      "numpy multi dimensional array in python\n",
      "  [[ 1  2  3]\n",
      " [ 5  6  7]\n",
      " [ 9 10 11]]\n"
     ]
    }
   ],
   "source": [
    "#creatinglist\n",
    "list_1=[1,2,3]\n",
    "list_2=[5,6,7]\n",
    "list_3=[9,10,11]\n",
    "\n",
    "#creatingarray\n",
    "sample_array=np.array([list_1,\n",
    "                       list_2,\n",
    "                       list_3])\n",
    "print('numpy multi dimensional array in python\\n ',sample_array)"
   ]
  }
 ],
 "metadata": {
  "kernelspec": {
   "display_name": "Python 3 (ipykernel)",
   "language": "python",
   "name": "python3"
  },
  "language_info": {
   "codemirror_mode": {
    "name": "ipython",
    "version": 3
   },
   "file_extension": ".py",
   "mimetype": "text/x-python",
   "name": "python",
   "nbconvert_exporter": "python",
   "pygments_lexer": "ipython3",
   "version": "3.9.12"
  }
 },
 "nbformat": 4,
 "nbformat_minor": 5
}

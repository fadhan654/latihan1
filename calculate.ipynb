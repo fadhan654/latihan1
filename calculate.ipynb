{
 "cells": [
  {
   "cell_type": "code",
   "execution_count": 2,
   "metadata": {},
   "outputs": [
    {
     "name": "stdout",
     "output_type": "stream",
     "text": [
      "============ Program Kalkulator Sederhana ============\n",
      " \n",
      "========================================\n",
      "Menu\n",
      " 1. Hitung Luas Segitiga\n",
      " 2. Hitung Luas Persegi Panjang\n",
      " 3. Tentukan number ganjil genap\n",
      " 4. Quit\n",
      " \n",
      "----------------------------------------\n",
      "Masukan Pilihan : 4\n",
      "Program selesai berjalan, sampai jumpa!\n",
      "--- --- --- --- ---\n"
     ]
    }
   ],
   "source": [
    "print(\"============ Program Kalkulator Sederhana ============\")\n",
    "while (True):\n",
    "    print(\" \\n========================================\")\n",
    "    print(\"Menu\")\n",
    "    print(\" 1. Hitung Luas Segitiga\")\n",
    "    print(\" 2. Hitung Luas Persegi Panjang\")\n",
    "    print(\" 3. Tentukan number ganjil genap\")\n",
    "    print(\" 4. Quit\")\n",
    "\n",
    "    print(\" \\n----------------------------------------\")\n",
    "\n",
    "    listMenu = input(\"Masukan Pilihan : \")\n",
    "\n",
    "#menghitung luas segitiga\n",
    "    if listMenu == \"1\":\n",
    "        print(\"Menu -- Hitung Luas Segitiga\")\n",
    "        alas = int(input(\"\\nMasukan Panjang Alas : \"))\n",
    "        tinggi = int(input(\"Masukan Tinggi : \"))\n",
    "\n",
    "        rumus1 = 1/2 * alas * tinggi\n",
    "        print(\"\\nLuas Segitiga : \", rumus1)\n",
    "        print(\"\\n=== === === === ===\")\n",
    "#menghitung luas persegi panjang\n",
    "    elif listMenu == \"2\":\n",
    "        print(\"Menu -- Hitung Luas Persegi Panjang\")\n",
    "        panjang = int(input(\"\\nMasukan Panjang : \"))\n",
    "        lebar = int(input(\"Masukan Lebar : \"))\n",
    "\n",
    "        rumus2 = panjang * lebar\n",
    "        print(\"\\nLuas Persegi Panjang : \", rumus2)\n",
    "        print(\"\\n=== === === === ===\")\n",
    "#menentukan angka yang di ip\n",
    "    elif listMenu == \"3\":\n",
    "        print(\"Menu -- Tentukan number ganjil genap\")\n",
    "        angka = int(input(\"\\nMasukan Angka : \"))\n",
    "\n",
    "        if (angka % 2 == 0):\n",
    "            print(\"\\nAngka\", angka, \"merupakan angka Genap.\")\n",
    "        else:\n",
    "            print(\"\\nAngka\", angka, \"merupakan angka Ganjil.\")\n",
    "\n",
    "        print(\"\\n=== === === === ===\")\n",
    "\n",
    "    else:\n",
    "        menu = print(\"Program selesai berjalan, sampai jumpa!\")\n",
    "        print(\"--- --- --- --- ---\")\n",
    "        break"
   ]
  }
 ],
 "metadata": {
  "kernelspec": {
   "display_name": "Python 3",
   "language": "python",
   "name": "python3"
  },
  "language_info": {
   "codemirror_mode": {
    "name": "ipython",
    "version": 3
   },
   "file_extension": ".py",
   "mimetype": "text/x-python",
   "name": "python",
   "nbconvert_exporter": "python",
   "pygments_lexer": "ipython3",
   "version": "3.8.5"
  }
 },
 "nbformat": 4,
 "nbformat_minor": 4
}

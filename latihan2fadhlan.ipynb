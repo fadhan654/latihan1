{
 "cells": [
  {
   "cell_type": "code",
   "execution_count": 47,
   "id": "32f81d4b",
   "metadata": {},
   "outputs": [
    {
     "name": "stdout",
     "output_type": "stream",
     "text": [
      "nama: Fadhlan subhan fadilah\n",
      "usia: 18\n",
      "sudah_menikah: False\n",
      "hobi: badminton\n",
      "quotes: you'll never walk alone\n",
      "kelas: TI22T\n",
      "jurusan: Teknik Informatika\n"
     ]
    }
   ],
   "source": [
    "nama = 'Fadhlan subhan fadilah'\n",
    "kelas = \"TI22T\"\n",
    "jurusan = \"Teknik Informatika\"\n",
    "usia = 18\n",
    "sudah_menikah = False\n",
    "hobi = \"badminton\"\n",
    "quotes = \"you'll never walk alone\"\n",
    "print(\"nama:\",nama)\n",
    "print(\"usia:\",usia)\n",
    "print(\"sudah_menikah:\",sudah_menikah)\n",
    "print(\"hobi:\",hobi)\n",
    "print(\"quotes:\",quotes)\n",
    "print(\"kelas:\",kelas)\n",
    "print(\"jurusan:\",jurusan)"
   ]
  },
  {
   "cell_type": "code",
   "execution_count": 13,
   "id": "4588648a",
   "metadata": {},
   "outputs": [
    {
     "name": "stdout",
     "output_type": "stream",
     "text": [
      "a: 1\n",
      "b: 2\n",
      "c: mantap\n",
      "d: 10\n",
      "e: 10\n",
      "f: 10\n"
     ]
    }
   ],
   "source": [
    "a,b,c = 1,2,\"mantap\"\n",
    "print(\"a:\",a)\n",
    "print(\"b:\",b)\n",
    "print(\"c:\",c)\n",
    "d = e = f = 10\n",
    "print(\"d:\",d)\n",
    "print(\"e:\",e)\n",
    "print(\"f:\",f)"
   ]
  },
  {
   "cell_type": "code",
   "execution_count": 15,
   "id": "148f921d",
   "metadata": {},
   "outputs": [
    {
     "name": "stdout",
     "output_type": "stream",
     "text": [
      "<class 'str'>\n",
      "<class 'int'>\n"
     ]
    }
   ],
   "source": [
    "kota = \"sukabumi\"\n",
    "nilai = 50\n",
    "print(type(kota))\n",
    "print(type(nilai))"
   ]
  },
  {
   "cell_type": "code",
   "execution_count": 19,
   "id": "101c35f1",
   "metadata": {},
   "outputs": [
    {
     "name": "stdout",
     "output_type": "stream",
     "text": [
      "5 * 10.5 = 52.5\n",
      "type dari variabel panjang: <class 'int'>\n",
      "type dari variabel lebar: <class 'float'>\n",
      "type dari variabel luas: <class 'float'>\n"
     ]
    }
   ],
   "source": [
    "panjang = 5\n",
    "lebar = 10.5\n",
    "luas = panjang*lebar\n",
    "print(panjang, \"*\",lebar, \"=\" ,luas)\n",
    "print(\"type dari variabel panjang:\",type(panjang))\n",
    "print(\"type dari variabel lebar:\",type(lebar))\n",
    "print(\"type dari variabel luas:\",type(luas))"
   ]
  },
  {
   "cell_type": "code",
   "execution_count": 21,
   "id": "98eb11af",
   "metadata": {},
   "outputs": [
    {
     "name": "stdout",
     "output_type": "stream",
     "text": [
      "luas segitiga= 25.0 cm2\n"
     ]
    }
   ],
   "source": [
    "alas = 10\n",
    "tinggi = 5\n",
    "luas = 0.5 * alas * tinggi\n",
    "print(\"luas segitiga=\",luas,\"cm2\")"
   ]
  },
  {
   "cell_type": "code",
   "execution_count": 23,
   "id": "766a26a4",
   "metadata": {},
   "outputs": [
    {
     "name": "stdout",
     "output_type": "stream",
     "text": [
      "umur= 18\n"
     ]
    }
   ],
   "source": [
    "tahun_lahir = 2004\n",
    "tahun_sekarang = 2022\n",
    "umur = tahun_sekarang-tahun_lahir\n",
    "print(\"umur=\",umur)"
   ]
  },
  {
   "cell_type": "code",
   "execution_count": 29,
   "id": "4c06dc43",
   "metadata": {},
   "outputs": [
    {
     "name": "stdout",
     "output_type": "stream",
     "text": [
      "Fadhlan subhan fadilah (18) , dari cipeundeuy ,kata mutiara: you'll never walk alone\n"
     ]
    }
   ],
   "source": [
    "nama_depan = \"Fadhlan\"\n",
    "nama_belakang = \"subhan fadilah\"\n",
    "nama_lengkap = nama_depan + \" \" + nama_belakang\n",
    "usia = \"18\"\n",
    "alamat = \"cipeundeuy\"\n",
    "kata_mutiara = \"you'll never walk alone\"\n",
    "print(nama_lengkap,\"(\"+usia+\")\",\",\",\"dari\",alamat,\",\"\"kata mutiara:\",kata_mutiara)"
   ]
  },
  {
   "cell_type": "code",
   "execution_count": 30,
   "id": "01c8b9e2",
   "metadata": {},
   "outputs": [
    {
     "name": "stdout",
     "output_type": "stream",
     "text": [
      "saya saya saya \n"
     ]
    }
   ],
   "source": [
    "print(\"saya \"*3)"
   ]
  },
  {
   "cell_type": "code",
   "execution_count": 32,
   "id": "4d1928f6",
   "metadata": {},
   "outputs": [
    {
     "ename": "TypeError",
     "evalue": "can't multiply sequence by non-int of type 'str'",
     "output_type": "error",
     "traceback": [
      "\u001b[1;31m---------------------------------------------------------------------------\u001b[0m",
      "\u001b[1;31mTypeError\u001b[0m                                 Traceback (most recent call last)",
      "Input \u001b[1;32mIn [32]\u001b[0m, in \u001b[0;36m<cell line: 1>\u001b[1;34m()\u001b[0m\n\u001b[1;32m----> 1\u001b[0m \u001b[38;5;28mprint\u001b[39m(\u001b[38;5;124;43m\"\u001b[39;49m\u001b[38;5;124;43msaya\u001b[39;49m\u001b[38;5;124;43m\"\u001b[39;49m\u001b[43m \u001b[49m\u001b[38;5;241;43m*\u001b[39;49m\u001b[43m \u001b[49m\u001b[38;5;124;43m\"\u001b[39;49m\u001b[38;5;124;43msaya\u001b[39;49m\u001b[38;5;124;43m\"\u001b[39;49m)\n",
      "\u001b[1;31mTypeError\u001b[0m: can't multiply sequence by non-int of type 'str'"
     ]
    }
   ],
   "source": [
    "print(\"saya\" * \"saya\")"
   ]
  },
  {
   "cell_type": "code",
   "execution_count": 34,
   "id": "3c958227",
   "metadata": {},
   "outputs": [
    {
     "name": "stdout",
     "output_type": "stream",
     "text": [
      "\n",
      " saya \n",
      " saya \n",
      " saya \n"
     ]
    }
   ],
   "source": [
    "print(\"\\n saya \"*3)"
   ]
  },
  {
   "cell_type": "code",
   "execution_count": 37,
   "id": "71965ec1",
   "metadata": {},
   "outputs": [
    {
     "name": "stdout",
     "output_type": "stream",
     "text": [
      "\n",
      " nama saya \n",
      " FADHLAN SUBHAN FADILAH \n",
      " jurusan TI\n"
     ]
    }
   ],
   "source": [
    "print(\"\\n nama saya\",\"\\n FADHLAN SUBHAN FADILAH\",\"\\n jurusan TI\")"
   ]
  },
  {
   "cell_type": "code",
   "execution_count": 39,
   "id": "abc1cb05",
   "metadata": {},
   "outputs": [
    {
     "name": "stdout",
     "output_type": "stream",
     "text": [
      "nama saya\n",
      "Fadhlan\n",
      "jurusan ti\n"
     ]
    }
   ],
   "source": [
    "print('''nama saya\n",
    "Fadhlan\n",
    "jurusan ti''')"
   ]
  },
  {
   "cell_type": "code",
   "execution_count": 41,
   "id": "91ab772f",
   "metadata": {},
   "outputs": [
    {
     "name": "stdout",
     "output_type": "stream",
     "text": [
      "apakah saya orang indonesia ? True\n",
      "apakah saya adalah robot? False\n",
      "tipe dari saya_orang_indonesia <class 'bool'>\n",
      "tipe dari saya_adalah_robot <class 'bool'>\n"
     ]
    }
   ],
   "source": [
    "saya_orang_indonesia = True\n",
    "saya_adalah_robot = False\n",
    "print(\"apakah saya orang indonesia ?\", saya_orang_indonesia)\n",
    "print(\"apakah saya adalah robot?\", saya_adalah_robot)\n",
    "print(\"tipe dari saya_orang_indonesia\", type(saya_orang_indonesia))\n",
    "print(\"tipe dari saya_adalah_robot\", type(saya_adalah_robot))"
   ]
  },
  {
   "cell_type": "code",
   "execution_count": 46,
   "id": "b04a55d4",
   "metadata": {},
   "outputs": [
    {
     "name": "stdout",
     "output_type": "stream",
     "text": [
      "False\n",
      "False\n",
      "False\n"
     ]
    }
   ],
   "source": [
    "foo = 10>12\n",
    "print(foo)\n",
    "foo = 20<10\n",
    "print(foo)\n",
    "print(\"A\"==\"a\")"
   ]
  },
  {
   "cell_type": "code",
   "execution_count": null,
   "id": "5d76bd8e",
   "metadata": {},
   "outputs": [],
   "source": []
  }
 ],
 "metadata": {
  "kernelspec": {
   "display_name": "Python 3 (ipykernel)",
   "language": "python",
   "name": "python3"
  },
  "language_info": {
   "codemirror_mode": {
    "name": "ipython",
    "version": 3
   },
   "file_extension": ".py",
   "mimetype": "text/x-python",
   "name": "python",
   "nbconvert_exporter": "python",
   "pygments_lexer": "ipython3",
   "version": "3.9.12"
  }
 },
 "nbformat": 4,
 "nbformat_minor": 5
}

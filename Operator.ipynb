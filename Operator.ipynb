{
 "cells": [
  {
   "cell_type": "code",
   "execution_count": 11,
   "id": "5befd806",
   "metadata": {},
   "outputs": [
    {
     "name": "stdout",
     "output_type": "stream",
     "text": [
      "10 + 100 = 110\n",
      "10 - 100 = -90\n",
      "10 * 100 = 1000\n",
      "10 / 100 = 0.1\n",
      "10 % 100 = 10\n",
      "10 ** 100 = 10000000000000000000000000000000000000000000000000000000000000000000000000000000000000000000000000000\n",
      "10 // 100 = 0\n"
     ]
    }
   ],
   "source": [
    "a,b = 10,100\n",
    "print(a, '+', b, '=', a+b)\n",
    "print(a, '-', b, '=', a-b)\n",
    "print(a, '*', b, '=', a*b)\n",
    "print(a, '/', b, '=', a/b)\n",
    "print(a, '%', b, '=', a%b)\n",
    "print(a, '**', b, '=', a**b)\n",
    "print(a, '//', b, '=', a//b)"
   ]
  },
  {
   "cell_type": "code",
   "execution_count": 13,
   "id": "569a5126",
   "metadata": {},
   "outputs": [
    {
     "name": "stdout",
     "output_type": "stream",
     "text": [
      "6.4\n"
     ]
    }
   ],
   "source": [
    "print(2*2**2/10+4+2**3/5)"
   ]
  },
  {
   "cell_type": "code",
   "execution_count": 15,
   "id": "32369129",
   "metadata": {},
   "outputs": [
    {
     "name": "stdout",
     "output_type": "stream",
     "text": [
      "a=5-> 5\n",
      "a+=2-> 7\n",
      "a-=4-> 3\n",
      "a/=5-> 0.6\n",
      "a%=2-> 0.6\n"
     ]
    }
   ],
   "source": [
    "a = 5\n",
    "print('a=5->',a)\n",
    "a+=2\n",
    "print('a+=2->',a)\n",
    "a-=4\n",
    "print('a-=4->',a)\n",
    "a/=5\n",
    "print('a/=5->',a)\n",
    "a%=2\n",
    "print('a%=2->',a)"
   ]
  },
  {
   "cell_type": "code",
   "execution_count": 19,
   "id": "4a1484ee",
   "metadata": {},
   "outputs": [
    {
     "name": "stdout",
     "output_type": "stream",
     "text": [
      "a= 5\n",
      "a= 7\n",
      "a= 3\n",
      "a= 0.6\n",
      "a= 0.6\n"
     ]
    }
   ],
   "source": [
    "a = 5\n",
    "print(\"a=\",a)\n",
    "a+=2\n",
    "print(\"a=\",a)\n",
    "a-=4\n",
    "print(\"a=\",a)\n",
    "a/=5\n",
    "print(\"a=\",a)\n",
    "a%=2\n",
    "print(\"a=\",a)"
   ]
  },
  {
   "cell_type": "code",
   "execution_count": 27,
   "id": "d3e71ea9",
   "metadata": {},
   "outputs": [
    {
     "name": "stdout",
     "output_type": "stream",
     "text": [
      "False\n",
      "True\n",
      "False\n",
      "True\n",
      "False\n",
      "True\n"
     ]
    }
   ],
   "source": [
    "a,b = 5,10\n",
    "print(a>b)\n",
    "print(a<b)\n",
    "print(a==b)\n",
    "print(a!=b)\n",
    "print(a>=b)\n",
    "print(a<=b)"
   ]
  },
  {
   "cell_type": "code",
   "execution_count": 35,
   "id": "7e04dfa6",
   "metadata": {},
   "outputs": [
    {
     "name": "stdout",
     "output_type": "stream",
     "text": [
      "False\n",
      "True\n",
      "False\n"
     ]
    }
   ],
   "source": [
    "nilai_1 = True\n",
    "nilai_2 = False\n",
    "nilai_3 = True\n",
    "print(nilai_1 and nilai_2)\n",
    "print(nilai_1 and nilai_3)\n",
    "print(nilai_3 and nilai_2)"
   ]
  },
  {
   "cell_type": "code",
   "execution_count": 40,
   "id": "6a64cd22",
   "metadata": {},
   "outputs": [
    {
     "name": "stdout",
     "output_type": "stream",
     "text": [
      "baju murah dan diskon laku = True\n",
      "baju tidak murah dan tidak diskon tidak laku = False\n"
     ]
    }
   ],
   "source": [
    "a = True \n",
    "b = False\n",
    "print('baju murah dan diskon laku =',a)\n",
    "print('baju tidak murah dan tidak diskon tidak laku =',b)"
   ]
  },
  {
   "cell_type": "code",
   "execution_count": 49,
   "id": "a19533e2",
   "metadata": {},
   "outputs": [
    {
     "name": "stdout",
     "output_type": "stream",
     "text": [
      "baju murah dan diskon jadi laku=True\n",
      "baju tidak murah dan tidak diskon jadi tidak laku=False\n"
     ]
    }
   ],
   "source": [
    "murah=True\n",
    "diskon=True\n",
    "print('baju murah dan diskon jadi laku='+str(murah and diskon))\n",
    "print('baju tidak murah dan tidak diskon jadi tidak laku='+str (not murah))"
   ]
  },
  {
   "cell_type": "code",
   "execution_count": 52,
   "id": "4259ba37",
   "metadata": {},
   "outputs": [
    {
     "name": "stdout",
     "output_type": "stream",
     "text": [
      "a is b : True\n",
      "a is not b : False\n",
      "nama_a is nama_b : True\n",
      "list_a is list_b : False\n"
     ]
    }
   ],
   "source": [
    "a=5\n",
    "b=5\n",
    "list_a=[1,2,3]\n",
    "list_b=[1,2,3]\n",
    "nama_a='budi'\n",
    "nama_b='budi'\n",
    "print('a is b :', a is b)\n",
    "print('a is not b :', a is not b)\n",
    "print('nama_a is nama_b :', nama_a is nama_b)\n",
    "print('list_a is list_b :', list_a is list_b)"
   ]
  },
  {
   "cell_type": "code",
   "execution_count": 54,
   "id": "1c2a7dd1",
   "metadata": {},
   "outputs": [
    {
     "name": "stdout",
     "output_type": "stream",
     "text": [
      "True\n",
      "False\n"
     ]
    }
   ],
   "source": [
    "nama = 'fadhlan'\n",
    "hobi = 'badminton'\n",
    "print('f' in nama)\n",
    "print('f' not in nama)"
   ]
  },
  {
   "cell_type": "code",
   "execution_count": 57,
   "id": "2f2fb2ac",
   "metadata": {},
   "outputs": [
    {
     "name": "stdout",
     "output_type": "stream",
     "text": [
      "False\n"
     ]
    }
   ],
   "source": [
    "warna = ['hijau','kuning','merah','biru' ]\n",
    "print('ungu' in warna)"
   ]
  },
  {
   "cell_type": "code",
   "execution_count": 60,
   "id": "c6cbd96c",
   "metadata": {},
   "outputs": [
    {
     "name": "stdout",
     "output_type": "stream",
     "text": [
      "00100100\n"
     ]
    }
   ],
   "source": [
    "print(format(36,'08b'))"
   ]
  },
  {
   "cell_type": "code",
   "execution_count": 65,
   "id": "32e64e56",
   "metadata": {},
   "outputs": [
    {
     "name": "stdout",
     "output_type": "stream",
     "text": [
      "a = 1 = 00000001\n",
      "01000000\n"
     ]
    }
   ],
   "source": [
    "a=1\n",
    "b=64\n",
    "print('a =',a,'=',format(a,'08b'))\n",
    "print(format(b,'08b'))"
   ]
  },
  {
   "cell_type": "code",
   "execution_count": 68,
   "id": "c1f720d5",
   "metadata": {},
   "outputs": [
    {
     "name": "stdout",
     "output_type": "stream",
     "text": [
      "h = 01101000\n",
      "e = 01100101\n",
      "l = 01101100\n",
      "l = 01101100\n",
      "o = 01101111\n"
     ]
    }
   ],
   "source": [
    "print('h =',format(104,'08b'))\n",
    "print('e =',format(101,'08b'))\n",
    "print('l =',format(108,'08b'))\n",
    "print('l =',format(108,'08b'))\n",
    "print('o =',format(111,'08b'))"
   ]
  },
  {
   "cell_type": "code",
   "execution_count": 72,
   "id": "856419cb",
   "metadata": {},
   "outputs": [
    {
     "name": "stdout",
     "output_type": "stream",
     "text": [
      "00000000\n",
      "00110100\n",
      "-1000101\n"
     ]
    }
   ],
   "source": [
    "x=100\n",
    "y=10\n",
    "z=68\n",
    "print(format(x&y&z,'08b'))\n",
    "print(format(x^y<<5>>2,'08b'))\n",
    "print(format(~x&~y|~z,'08b'))"
   ]
  }
 ],
 "metadata": {
  "kernelspec": {
   "display_name": "Python 3 (ipykernel)",
   "language": "python",
   "name": "python3"
  },
  "language_info": {
   "codemirror_mode": {
    "name": "ipython",
    "version": 3
   },
   "file_extension": ".py",
   "mimetype": "text/x-python",
   "name": "python",
   "nbconvert_exporter": "python",
   "pygments_lexer": "ipython3",
   "version": "3.9.12"
  }
 },
 "nbformat": 4,
 "nbformat_minor": 5
}

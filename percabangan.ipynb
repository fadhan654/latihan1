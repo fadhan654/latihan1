{
 "cells": [
  {
   "cell_type": "code",
   "execution_count": 3,
   "id": "53d08b2c",
   "metadata": {},
   "outputs": [
    {
     "name": "stdout",
     "output_type": "stream",
     "text": [
      "=== program nilai ===\n",
      "masukan nilai: 80\n",
      "selamat, anda lulus!\n",
      "tetap semangat, tingkatkan nilai kedepannya\n"
     ]
    }
   ],
   "source": [
    "print('=== program nilai ===')\n",
    "nilai=int(input('masukan nilai: '))\n",
    "if nilai >=80:\n",
    "    print('selamat, anda lulus!')\n",
    "print('tetap semangat, tingkatkan nilai kedepannya')"
   ]
  },
  {
   "cell_type": "code",
   "execution_count": 6,
   "id": "531bbd06",
   "metadata": {},
   "outputs": [
    {
     "name": "stdout",
     "output_type": "stream",
     "text": [
      "=== login ===\n",
      "masukan password: dasar pemrograman\n",
      "selamat datang di aplikasi\n",
      "terimakasih telah mempercayakan pada aplikasi kami\n"
     ]
    }
   ],
   "source": [
    "print('=== login ===')\n",
    "password = input('masukan password: ')\n",
    "if password == 'dasar pemrograman':\n",
    "    print('selamat datang di aplikasi')\n",
    "else:\n",
    "    print('password salah,coba lagi!')\n",
    "print('terimakasih telah mempercayakan pada aplikasi kami')\n"
   ]
  },
  {
   "cell_type": "code",
   "execution_count": 18,
   "id": "74544c2a",
   "metadata": {},
   "outputs": [
    {
     "name": "stdout",
     "output_type": "stream",
     "text": [
      "masukan nilai: 5\n",
      "5 termasuk nilai ganjil\n"
     ]
    }
   ],
   "source": [
    "nilai= int(input('masukan nilai: '))\n",
    "if nilai>0:\n",
    "    if(nilai % 2)==0:\n",
    "        print(nilai,'termasuk nilai genap')\n",
    "    else:\n",
    "        print(nilai,'termasuk nilai ganjil')\n",
    "else:\n",
    "    print(nilai,'bukan bilangan por=sitif')"
   ]
  },
  {
   "cell_type": "code",
   "execution_count": 24,
   "id": "769b9303",
   "metadata": {},
   "outputs": [
    {
     "name": "stdout",
     "output_type": "stream",
     "text": [
      "=== program grade nilai ===\n",
      "inputkan nilai akhir: 100\n",
      "grade anda:  A\n"
     ]
    }
   ],
   "source": [
    "print('=== program grade nilai ===')\n",
    "nilai=int(input('inputkan nilai akhir: '))\n",
    "if nilai >=90:\n",
    "    grade='A'\n",
    "elif nilai >=80:\n",
    "    grade='B+' \n",
    "elif nilai >=70:\n",
    "    grade='B'\n",
    "elif nilai >=60:\n",
    "    grade='C+'    \n",
    "elif nilai >=50:\n",
    "    grade='C'\n",
    "elif nilai >=40:\n",
    "    grade='D'\n",
    "elif nilai >=30:\n",
    "    grade='E'\n",
    "else:\n",
    "    grade='F'\n",
    "print('grade anda: ', grade)"
   ]
  },
  {
   "cell_type": "code",
   "execution_count": 33,
   "id": "0d2db835",
   "metadata": {},
   "outputs": [
    {
     "name": "stdout",
     "output_type": "stream",
     "text": [
      "nama: fadhlan\n",
      "gender: laki-laki\n",
      "hai bro ngopsss fadhlan\n"
     ]
    }
   ],
   "source": [
    "nama= (input('nama: '))\n",
    "gender=(input('gender: '))\n",
    "if gender=='laki-laki':\n",
    "    jawab=\"hai bro ngopsss\"\n",
    "elif gender== 'perempuan':\n",
    "    jawab='hai sis'\n",
    "else:\n",
    "    gender='banci'\n",
    "print(jawab, nama)    "
   ]
  },
  {
   "cell_type": "code",
   "execution_count": 37,
   "id": "51e0fee4",
   "metadata": {},
   "outputs": [
    {
     "name": "stdout",
     "output_type": "stream",
     "text": [
      "tahun lahir: 2004\n",
      "generasi: Z\n"
     ]
    }
   ],
   "source": [
    "tahun=int(input('tahun lahir: '))\n",
    "if tahun>= 1995:\n",
    "    generasi='Z'\n",
    "elif tahun>=1971:\n",
    "    generasi='Y'\n",
    "elif tahun>=1951:\n",
    "    generasi='X'\n",
    "elif tahun>=1944:\n",
    "    generasi='boomer'\n",
    "else:\n",
    "    generasi= 'tidak ada generasi'\n",
    "print('generasi:',generasi)"
   ]
  },
  {
   "cell_type": "code",
   "execution_count": 41,
   "id": "70b5d671",
   "metadata": {},
   "outputs": [
    {
     "name": "stdout",
     "output_type": "stream",
     "text": [
      "menentukan kelulusan\n",
      "nama mahasiswa: fadhlan\n",
      "masukan nilai UTS: 80\n",
      "masukan nilai UAS: 75\n",
      "selamat fadhlan anda lulus!\n"
     ]
    }
   ],
   "source": [
    "print('menentukan kelulusan')\n",
    "nama=input('nama mahasiswa: ')\n",
    "nilai_uts=int(input('masukan nilai UTS: '))\n",
    "nilai_uas=int(input('masukan nilai UAS: '))\n",
    "if nilai_uas>=68:\n",
    "    if nilai_uts>=58:\n",
    "        print('selamat',nama,'anda lulus!')\n",
    "    else:\n",
    "        print(nama,'lulus, lebih giat belajar ya')\n",
    "else:\n",
    "    print(nama,'anda belum lulus')\n"
   ]
  },
  {
   "cell_type": "code",
   "execution_count": 49,
   "id": "f3a46d03",
   "metadata": {},
   "outputs": [
    {
     "name": "stdout",
     "output_type": "stream",
     "text": [
      "===anda pengangguran? lemah iman?dan miskin?===\n",
      "username: fadhlan64\n",
      "password: ngopskuy\n",
      "hayolo diingat kembali\n",
      "===selamat dan sukses===\n"
     ]
    }
   ],
   "source": [
    "print('===anda pengangguran? lemah iman?dan miskin?===')\n",
    "username=input('username: ')\n",
    "password=input('password: ')\n",
    "if username == 'fadhlan654':\n",
    "    if password =='ngopskuy':\n",
    "        print('selamat bergabung dengan biro jasa pemindahan uang')\n",
    "    else:\n",
    "        print('password anda salah, coba lagi')\n",
    "else:\n",
    "    print('hayolo diingat kembali')\n",
    "print('===selamat dan sukses===')"
   ]
  }
 ],
 "metadata": {
  "kernelspec": {
   "display_name": "Python 3 (ipykernel)",
   "language": "python",
   "name": "python3"
  },
  "language_info": {
   "codemirror_mode": {
    "name": "ipython",
    "version": 3
   },
   "file_extension": ".py",
   "mimetype": "text/x-python",
   "name": "python",
   "nbconvert_exporter": "python",
   "pygments_lexer": "ipython3",
   "version": "3.9.12"
  }
 },
 "nbformat": 4,
 "nbformat_minor": 5
}
